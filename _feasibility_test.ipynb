{
  "cells": [
    {
      "cell_type": "code",
      "execution_count": 1,
      "metadata": {
        "colab": {
          "base_uri": "https://localhost:8080/",
          "height": 251
        },
        "id": "E44jiNFUMJdu",
        "outputId": "3023f37d-8f43-45f4-cbde-3f705c3a3e0d"
      },
      "outputs": [
        {
          "data": {
            "text/plain": [
              "(True, False)"
            ]
          },
          "execution_count": 1,
          "metadata": {},
          "output_type": "execute_result"
        }
      ],
      "source": [
        "import re, os\n",
        "\n",
        "with open('./data/test_file.txt', 'r', encoding='utf-8') as test_file:\n",
        "    test_lines = [line for line in test_file.read().splitlines() if line not in ['', '***', '\\u3000']]\n",
        "with open('./data/train_file.txt', 'r', encoding='utf-8') as train_file:\n",
        "    train_lines = [line for line in train_file.read().splitlines() if line not in ['', '***', '\\u3000']]\n",
        "\n",
        "len(test_lines) == len(train_lines), test_lines == train_lines"
      ]
    },
    {
      "cell_type": "code",
      "execution_count": null,
      "metadata": {
        "id": "DwPCf4j_frv2"
      },
      "outputs": [],
      "source": [
        "train_lines"
      ]
    },
    {
      "cell_type": "code",
      "execution_count": 3,
      "metadata": {
        "colab": {
          "base_uri": "https://localhost:8080/"
        },
        "id": "eOhiE2K-j9fG",
        "outputId": "362c0811-e7eb-46af-a5ee-033043b26923"
      },
      "outputs": [
        {
          "data": {
            "text/plain": [
              "{'20220331_168': {'type': '0', 'name': '이지수'},\n",
              " '20220405_87': {'type': '1', 'name': '경준'},\n",
              " '20220810_31': {'type': '3', 'name': '디자이너들'},\n",
              " '20220405_193': {'type': '2', 'name': 'unknown'},\n",
              " '20220331_272': {'type': '1', 'name': '이승오'},\n",
              " '20220331_87': {'type': '0', 'name': '조서하'},\n",
              " '20220419_206': {'type': '0', 'name': '서하'},\n",
              " '20220331_25': {'type': '2', 'name': '엑스트라'},\n",
              " '20220331_286': {'type': '0', 'name': '옥순'}}"
            ]
          },
          "execution_count": 3,
          "metadata": {},
          "output_type": "execute_result"
        }
      ],
      "source": [
        "id_dict = dict()\n",
        "with open('./data/ids.txt', 'r', encoding='utf-8') as ids:\n",
        "  for line in ids:\n",
        "    id_, gender, name = line.split()\n",
        "    id_dict[id_] = {'type': gender, 'name': name}\n",
        "id_dict"
      ]
    },
    {
      "cell_type": "code",
      "execution_count": 4,
      "metadata": {
        "id": "hvzudNXssXZq"
      },
      "outputs": [],
      "source": [
        "# 인스턴스 생성\n",
        "quotes_idx = dict()\n",
        "\n",
        "# 인용구의 인덱스 찾기\n",
        "for idx, line in enumerate(train_lines):\n",
        "    if '“' in line:\n",
        "      quotes_idx[idx]=line\n",
        "\n",
        "# # 인스턴스 생성\n",
        "ins_wd = list()\n",
        "rst = list()\n",
        "ins_id = -1\n",
        "lines_count = len(train_lines)\n",
        "indices = list(quotes_idx.keys())\n",
        "\n",
        "for q_id in indices: #quotes id\n",
        "  if q_id>9 and lines_count - q_id > 10:\n",
        "    wd = train_lines[q_id-10:q_id+11]\n",
        "    context = '\\n'.join(wd)\n",
        "    ins_id += 1\n",
        "    for id_number, info in id_dict.items():\n",
        "        if quotes_idx[q_id].startswith(id_number):\n",
        "            name = info['name']\n",
        "            contents = re.sub(r'\\d+_\\d+', '', context)   # 해당 인용구에 대한 전체 문맥\n",
        "            index = next((idx for idx, key in enumerate(id_dict.keys()) if key == id_number), None)\n",
        "            instance = f'Instance index: {ins_id}\\n{contents}\\nSpeaker: {name}\\nSpeaker index: {index}\\nCategory: explit'\n",
        "    rst.append(instance)"
      ]
    },
    {
      "cell_type": "code",
      "execution_count": 5,
      "metadata": {
        "colab": {
          "base_uri": "https://localhost:8080/"
        },
        "id": "nNUBu1z5rS0t",
        "outputId": "211e2455-cff5-4b98-8ec0-eb099214a1cf"
      },
      "outputs": [
        {
          "name": "stdout",
          "output_type": "stream",
          "text": [
            "Instance index: 1\n",
            "“시작하기 전에 안내 말씀 드리겠습니다.”\n",
            "마이크로 증폭된 목소리에 사람들이 귀를 기울였다.\n",
            "“이번 품평회는 블라인드 평가로 이루어집니다. 지금 출품된 신상들에 대해선 어떠한 정보도 주어지지 않으며, 회의 시간도 없습니다. 참가자분들은 오직 눈으로만 제품을 확인하고 채택하셔야 합니다. 지금부터 나누어 드리는 태블릿을 활용하여 체크리스트를 입력하고 채택해 주시기 바랍니다.”\n",
            "조용하던 장내가 일순 술렁거렸다.\n",
            "지금까지 품평회는 팸플릿으로 제작된 상품 설명서를 배부하는 것부터 시작했다.\n",
            "거기에는 디자이너의 이름을 비롯해 제품에 관한 정보가 간략하게 적혀 있어서, 엠디들은 쇼가 끝나고 나서 그 팸플릿을 뒤적여 가며 회의를 거쳐 최종 채택 목록을 내놓곤 했다.\n",
            "그랬던 것이 아무 사전 정보도 없이 블라인드 평가로 바뀌어 버린 것이다.\n",
            "-지이이잉, 지이이잉.\n",
            "진동으로 해둔 이승오의 폰이 울렸다. 이승오는 화면에 뜬 이름을 흘끔 보곤 그럴 줄 알았다는 듯 고개를 저으며 거절 버튼을 눌렀다.\n",
            "신호가 몇 번 가지도 않았는데 전화가 끊어졌다. 이지수는 핸드폰을 보다가 별안간 버럭 소리를 질렀다.\n",
            "“이게 뭐야!”\n",
            "갑작스러운 채택 방식 변경에 당황해하던 디자이너들이 한꺼번에 이지수를 쳐다보았다.\n",
            "그 중 서하의 눈이 이지수와 딱 마주쳤다.\n",
            "“……너지?”\n",
            "사납게 노려보는 이지수를 앞에 두고 서하는 고개를 갸웃해 보였다.\n",
            "“무슨 말씀이세요?”\n",
            "“너, 너잖아. 심사 방식, 너, 네가 시켰지!”\n",
            "“제가요?”\n",
            "서하는 진심으로 말이 되는 소린지 의심하면서 집게손가락으로 자신을 가리켜 보였다.\n",
            "“그래! 네, 네가 뒤에서 조종한 거 맞지! 그, 그렇지 않고서야 이럴 리 없어. 나는 아, 아무것도 못 들었단 말야!”\n",
            "첫 번째 모델이 런웨이로 걸어 나갔다. 이지수와 시답잖은 언쟁할 시간 따위는 없다. 서하는 커튼 사이로 살짝 드러난 런웨이를 보곤 이지수를 향해 또각또각 다가가 섰다.\n",
            "Speaker: 이지수\n",
            "Speaker index: 0\n",
            "Category: explit\n"
          ]
        }
      ],
      "source": [
        "print(rst[1])"
      ]
    },
    {
      "cell_type": "code",
      "execution_count": 6,
      "metadata": {
        "colab": {
          "base_uri": "https://localhost:8080/"
        },
        "id": "I86BATjWjL4z",
        "outputId": "4a78ae24-e46e-4334-be7e-f6490cfcb6f1"
      },
      "outputs": [
        {
          "data": {
            "text/plain": [
              "2190"
            ]
          },
          "execution_count": 6,
          "metadata": {},
          "output_type": "execute_result"
        }
      ],
      "source": [
        "len(rst)"
      ]
    },
    {
      "cell_type": "code",
      "execution_count": 7,
      "metadata": {
        "id": "GrREo-nCyUTT"
      },
      "outputs": [],
      "source": [
        "from sklearn.model_selection import train_test_split\n",
        "\n",
        "train_set, test_set = train_test_split(rst, test_size=0.2, random_state=42)\n",
        "\n",
        "with open('./data/train_explicit.txt', 'w') as file:\n",
        "    for item in train_set:\n",
        "        file.write(f'{item}\\n')\n",
        "\n",
        "# test set을 txt 파일로 저장\n",
        "with open('./data/test_explicit.txt', 'w') as file:\n",
        "    for item in test_set:\n",
        "        file.write(f'{item}\\n')\n"
      ]
    },
    {
      "cell_type": "code",
      "execution_count": 8,
      "metadata": {
        "colab": {
          "base_uri": "https://localhost:8080/"
        },
        "id": "CP8E59Gnxc6w",
        "outputId": "656c096a-3419-4ba3-d9bf-02699c763b74"
      },
      "outputs": [
        {
          "name": "stdout",
          "output_type": "stream",
          "text": [
            "'CSN-SAPR'에 복제합니다...\n",
            "remote: Enumerating objects: 111, done.\u001b[K\n",
            "remote: Counting objects: 100% (111/111), done.\u001b[K\n",
            "remote: Compressing objects: 100% (93/93), done.\u001b[K\n",
            "remote: Total 111 (delta 47), reused 51 (delta 13), pack-reused 0\u001b[K\n",
            "오브젝트를 받는 중: 100% (111/111), 695.73 KiB | 1.46 MiB/s, 완료.\n",
            "델타를 알아내는 중: 100% (47/47), 완료.\n"
          ]
        }
      ],
      "source": [
        "!git clone https://github.com/YueChenkkk/CSN-SAPR.git"
      ]
    },
    {
      "cell_type": "code",
      "execution_count": 73,
      "metadata": {
        "colab": {
          "base_uri": "https://localhost:8080/"
        },
        "id": "wZpThcyx0DZd",
        "outputId": "5565da88-c414-4fc3-9930-317ae18b99a9"
      },
      "outputs": [
        {
          "name": "stdout",
          "output_type": "stream",
          "text": [
            "/content/CSN-SAPR\n"
          ]
        }
      ],
      "source": [
        "%cd CSN-SAPR"
      ]
    },
    {
      "cell_type": "code",
      "execution_count": 74,
      "metadata": {
        "id": "IOqIF5Gh0GBg"
      },
      "outputs": [],
      "source": [
        "!chmod +x run_train.sh"
      ]
    },
    {
      "cell_type": "code",
      "execution_count": null,
      "metadata": {
        "id": "CY22XNoRugMZ"
      },
      "outputs": [],
      "source": [
        "!apt install python3.10-venv\n",
        "\n",
        "!python3 -m venv myenv\n",
        "!pip install fastprogress==1.0.0\n",
        "!pip install python==3.7\n",
        "!pip install jieba==0.42.1\n",
        "!pip install numpy==1.19.1\n",
        "!pip install transformers==4.6.1"
      ]
    },
    {
      "cell_type": "code",
      "execution_count": 75,
      "metadata": {
        "colab": {
          "base_uri": "https://localhost:8080/"
        },
        "id": "I2BTW1bS0J_N",
        "outputId": "332b4737-91f4-47f6-bfbe-d4f35d3473ef"
      },
      "outputs": [
        {
          "name": "stdout",
          "output_type": "stream",
          "text": [
            "/bin/bash: line 1: $/.bashrc: No such file or directory\n",
            "2023-11-23 01:32:53.972778: E tensorflow/compiler/xla/stream_executor/cuda/cuda_dnn.cc:9342] Unable to register cuDNN factory: Attempting to register factory for plugin cuDNN when one has already been registered\n",
            "2023-11-23 01:32:53.972852: E tensorflow/compiler/xla/stream_executor/cuda/cuda_fft.cc:609] Unable to register cuFFT factory: Attempting to register factory for plugin cuFFT when one has already been registered\n",
            "2023-11-23 01:32:53.972911: E tensorflow/compiler/xla/stream_executor/cuda/cuda_blas.cc:1518] Unable to register cuBLAS factory: Attempting to register factory for plugin cuBLAS when one has already been registered\n",
            "2023-11-23 01:32:55.932457: W tensorflow/compiler/tf2tensorrt/utils/py_utils.cc:38] TF-TRT Warning: Could not find TensorRT\n",
            "#######################OPTIONS########################\n",
            "{\n",
            "    \"model_name\": \"CSN\",\n",
            "    \"pooling_type\": \"max_pooling\",\n",
            "    \"classifier_intermediate_dim\": 100,\n",
            "    \"nonlinear_type\": \"tanh\",\n",
            "    \"bert_pretrained_dir\": \"beomi/kcbert-large\",\n",
            "    \"margin\": 1.0,\n",
            "    \"lr\": 2e-05,\n",
            "    \"optimizer\": \"adam\",\n",
            "    \"dropout\": 0.5,\n",
            "    \"num_epochs\": 50,\n",
            "    \"batch_size\": 16,\n",
            "    \"lr_decay\": 0.95,\n",
            "    \"patience\": 10,\n",
            "    \"train_file\": \"/content/CSN-SAPR/data/train/train_unsplit.txt\",\n",
            "    \"dev_file\": \"/content/CSN-SAPR/data/dev/dev_unsplit.txt\",\n",
            "    \"test_file\": \"/content/CSN-SAPR/data/test/test_unsplit.txt\",\n",
            "    \"ws\": 10,\n",
            "    \"name_list_path\": \"/content/CSN-SAPR/data/name_list.txt\",\n",
            "    \"length_limit\": 510,\n",
            "    \"checkpoint_dir\": \"\"\n",
            "}\n",
            "Building prefix dict from the default dictionary ...\n",
            "Loading model from cache /tmp/jieba.cache\n",
            "Loading model cost 1.274 seconds.\n",
            "Prefix dict has been built successfully.\n",
            "Traceback (most recent call last):\n",
            "  File \"/content/CSN-SAPR/train.py\", line 304, in <module>\n",
            "    dev_acc, test_acc = train()\n",
            "  File \"/content/CSN-SAPR/train.py\", line 71, in train\n",
            "    train_data = build_data_loader(train_file, alias2id, args, skip_only_one=True)\n",
            "  File \"/content/CSN-SAPR/utils/data_prep.py\", line 229, in build_data_loader\n",
            "    with open(data_file, 'r', encoding='utf-8') as fin:\n",
            "FileNotFoundError: [Errno 2] No such file or directory: '/content/CSN-SAPR/data/train/train_unsplit.txt'\n"
          ]
        }
      ],
      "source": [
        "ROOT_DIR=\"\"\n",
        "BERT_PRETRAINED_DIR=\"beomi/kcbert-large\"\n",
        "CHECKPOINT_DIR=\"\"\n",
        "DATA_PREFIX=\"/content/data\"\n",
        "\n",
        "!source ${ROOT_DIR}/.bashrc\n",
        "\n",
        "!CUDA_VISIBLE_DEVICES=0 python train.py \\\n",
        "--model_name CSN \\\n",
        "--pooling_type max_pooling \\\n",
        "--dropout 0.5 \\\n",
        "--optimizer adam \\\n",
        "--margin 1.0 \\\n",
        "--lr 2e-5 \\\n",
        "--num_epochs 50 \\\n",
        "--batch_size 16 \\\n",
        "--patience 10 \\\n",
        "--bert_pretrained_dir beomi/kcbert-large \\\n",
        "--train_file \\\n",
        "/content/CSN-SAPR/data/train/train_unsplit.txt \\\n",
        "--dev_file \\\n",
        "/content/CSN-SAPR/data/dev/dev_unsplit.txt \\\n",
        "--test_file \\\n",
        "/content/CSN-SAPR/data/test/test_unsplit.txt \\\n",
        "--name_list_path \\\n",
        "/content/CSN-SAPR/data/name_list.txt \\\n",
        "--length_limit 510 \\\n",
        "--checkpoint_dir \"\""
      ]
    },
    {
      "cell_type": "code",
      "execution_count": 55,
      "metadata": {
        "colab": {
          "base_uri": "https://localhost:8080/"
        },
        "id": "z9ylLQRR0L66",
        "outputId": "0cbfb4fc-a905-40a9-9742-3e6bcd4d4ade"
      },
      "outputs": [
        {
          "name": "stdout",
          "output_type": "stream",
          "text": [
            "\r0% [Working]\r            \rHit:1 http://archive.ubuntu.com/ubuntu jammy InRelease\n",
            "\r0% [Connecting to security.ubuntu.com (91.189.91.81)] [Connected to cloud.r-pro\r                                                                               \rGet:2 http://archive.ubuntu.com/ubuntu jammy-updates InRelease [119 kB]\n",
            "\r0% [2 InRelease 27.2 kB/119 kB 23%] [Connecting to security.ubuntu.com (91.189.\r0% [Waiting for headers] [Connecting to security.ubuntu.com (91.189.91.81)] [Wa\r                                                                               \rGet:3 https://cloud.r-project.org/bin/linux/ubuntu jammy-cran40/ InRelease [3,626 B]\n",
            "\r0% [Waiting for headers] [Connecting to security.ubuntu.com (91.189.91.81)] [3 \r0% [Waiting for headers] [Connecting to security.ubuntu.com (91.189.91.81)] [Wa\r                                                                               \rHit:4 http://archive.ubuntu.com/ubuntu jammy-backports InRelease\n",
            "\r                                                                               \r0% [Waiting for headers] [Waiting for headers] [Waiting for headers]\r                                                                    \rHit:5 https://developer.download.nvidia.com/compute/cuda/repos/ubuntu2204/x86_64  InRelease\n",
            "\r                                                                    \r0% [Waiting for headers] [Waiting for headers]\r                                              \rHit:6 https://ppa.launchpadcontent.net/c2d4u.team/c2d4u4.0+/ubuntu jammy InRelease\n",
            "\r0% [Waiting for headers] [Waiting for headers]\r                                              \rHit:7 https://ppa.launchpadcontent.net/deadsnakes/ppa/ubuntu jammy InRelease\n",
            "\r0% [Waiting for headers] [Waiting for headers]\r                                              \rHit:8 https://ppa.launchpadcontent.net/graphics-drivers/ppa/ubuntu jammy InRelease\n",
            "\r0% [Waiting for headers] [Waiting for headers]\r                                              \rHit:9 https://ppa.launchpadcontent.net/ubuntugis/ppa/ubuntu jammy InRelease\n",
            "Get:10 http://security.ubuntu.com/ubuntu jammy-security InRelease [110 kB]\n",
            "Get:11 http://archive.ubuntu.com/ubuntu jammy-updates/main amd64 Packages [1,515 kB]\n",
            "Get:12 http://archive.ubuntu.com/ubuntu jammy-updates/universe amd64 Packages [1,283 kB]\n",
            "Get:13 http://security.ubuntu.com/ubuntu jammy-security/universe amd64 Packages [1,014 kB]\n",
            "Get:14 http://security.ubuntu.com/ubuntu jammy-security/main amd64 Packages [1,242 kB]\n",
            "Fetched 5,288 kB in 3s (1,924 kB/s)\n",
            "Reading package lists... Done\n",
            "Reading package lists... Done\n",
            "Building dependency tree... Done\n",
            "Reading state information... Done\n",
            "Note, selecting 'libcasa-python3-6' for regex 'python3.6'\n",
            "Note, selecting 'libpython3.6-stdlib' for regex 'python3.6'\n",
            "Note, selecting 'python3.6-2to3' for regex 'python3.6'\n",
            "The following additional packages will be installed:\n",
            "  libcasa-casa6\n",
            "The following NEW packages will be installed:\n",
            "  libcasa-casa6 libcasa-python3-6\n",
            "0 upgraded, 2 newly installed, 0 to remove and 21 not upgraded.\n",
            "Need to get 1,088 kB of archives.\n",
            "After this operation, 4,238 kB of additional disk space will be used.\n",
            "Get:1 http://archive.ubuntu.com/ubuntu jammy/universe amd64 libcasa-casa6 amd64 3.4.0-2build1 [1,000 kB]\n",
            "Get:2 http://archive.ubuntu.com/ubuntu jammy/universe amd64 libcasa-python3-6 amd64 3.4.0-2build1 [88.2 kB]\n",
            "Fetched 1,088 kB in 0s (9,566 kB/s)\n",
            "debconf: unable to initialize frontend: Dialog\n",
            "debconf: (No usable dialog-like program is installed, so the dialog based frontend cannot be used. at /usr/share/perl5/Debconf/FrontEnd/Dialog.pm line 78, <> line 2.)\n",
            "debconf: falling back to frontend: Readline\n",
            "debconf: unable to initialize frontend: Readline\n",
            "debconf: (This frontend requires a controlling tty.)\n",
            "debconf: falling back to frontend: Teletype\n",
            "dpkg-preconfigure: unable to re-open stdin: \n",
            "Selecting previously unselected package libcasa-casa6:amd64.\n",
            "(Reading database ... 120895 files and directories currently installed.)\n",
            "Preparing to unpack .../libcasa-casa6_3.4.0-2build1_amd64.deb ...\n",
            "Unpacking libcasa-casa6:amd64 (3.4.0-2build1) ...\n",
            "Selecting previously unselected package libcasa-python3-6:amd64.\n",
            "Preparing to unpack .../libcasa-python3-6_3.4.0-2build1_amd64.deb ...\n",
            "Unpacking libcasa-python3-6:amd64 (3.4.0-2build1) ...\n",
            "Setting up libcasa-casa6:amd64 (3.4.0-2build1) ...\n",
            "Setting up libcasa-python3-6:amd64 (3.4.0-2build1) ...\n",
            "Processing triggers for libc-bin (2.35-0ubuntu3.4) ...\n",
            "/sbin/ldconfig.real: /usr/local/lib/libtbbbind.so.3 is not a symbolic link\n",
            "\n",
            "/sbin/ldconfig.real: /usr/local/lib/libtbbbind_2_0.so.3 is not a symbolic link\n",
            "\n",
            "/sbin/ldconfig.real: /usr/local/lib/libtbb.so.12 is not a symbolic link\n",
            "\n",
            "/sbin/ldconfig.real: /usr/local/lib/libtbbmalloc.so.2 is not a symbolic link\n",
            "\n",
            "/sbin/ldconfig.real: /usr/local/lib/libtbbmalloc_proxy.so.2 is not a symbolic link\n",
            "\n",
            "/sbin/ldconfig.real: /usr/local/lib/libtbbbind_2_5.so.3 is not a symbolic link\n",
            "\n"
          ]
        }
      ],
      "source": [
        "# 위에 돌려보고 파이썬 버전 때문에 오류 생기면 실행해주세요\n",
        "!sudo apt-get update\n",
        "!sudo apt-get install python3.6"
      ]
    },
    {
      "cell_type": "code",
      "execution_count": 56,
      "metadata": {
        "colab": {
          "base_uri": "https://localhost:8080/"
        },
        "id": "axRoxWuq0Qa_",
        "outputId": "80fcc419-d8fc-4bbf-9f3e-bceea0243dbe"
      },
      "outputs": [
        {
          "name": "stdout",
          "output_type": "stream",
          "text": [
            "update-alternatives: --install needs <link> <name> <path> <priority>\n",
            "\n",
            "Use 'update-alternatives --help' for program usage information.\n"
          ]
        }
      ],
      "source": [
        "!sudo update-alternatives --install /usr/bin/python3 python3 /usr/bin/python3.6"
      ]
    }
  ],
  "metadata": {
    "accelerator": "GPU",
    "colab": {
      "gpuType": "T4",
      "provenance": []
    },
    "kernelspec": {
      "display_name": "Python 3",
      "name": "python3"
    },
    "language_info": {
      "codemirror_mode": {
        "name": "ipython",
        "version": 3
      },
      "file_extension": ".py",
      "mimetype": "text/x-python",
      "name": "python",
      "nbconvert_exporter": "python",
      "pygments_lexer": "ipython3",
      "version": "3.11.5"
    }
  },
  "nbformat": 4,
  "nbformat_minor": 0
}
